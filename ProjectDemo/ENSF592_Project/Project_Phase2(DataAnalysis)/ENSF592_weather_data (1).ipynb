{
 "cells": [
  {
   "cell_type": "code",
   "execution_count": 1,
   "metadata": {},
   "outputs": [],
   "source": [
    "import pandas as pd\n",
    "import numpy as np\n",
    "import seaborn as sns"
   ]
  },
  {
   "cell_type": "markdown",
   "metadata": {},
   "source": [
    "### Read Data"
   ]
  },
  {
   "cell_type": "code",
   "execution_count": 2,
   "metadata": {},
   "outputs": [],
   "source": [
    "#TRAFFIC INCIDENTS\n",
    "traffic_incidents = pd.read_csv(\"CSV/Traffic_Incidents.csv\")\n",
    "traffic_incidents['START_DT'] = pd.to_datetime(traffic_incidents['START_DT'])\n",
    "traffic_incidents = traffic_incidents.loc[traffic_incidents[\"START_DT\"].dt.year == 2018, :]\n",
    "\n",
    "#WEATHER\n",
    "weather_2018 = pd.read_csv(\"https://climate.weather.gc.ca/climate_data/bulk_data_e.html?format=csv&stationID=50430&Year=2018&Month=1&Day=1&timeframe=2&submit=Download+Data\", \n",
    "                          parse_dates = [4], date_parser = pd.to_datetime, index_col = [4])\n",
    "\n",
    "#VISIBILITY\n",
    "vis_url = \"https://climate.weather.gc.ca/climate_data/bulk_data_e.html?format=csv&stationID=50430&Year=2018&Month={i}&Day=1&timeframe=1&submit=Download+Data\"\n",
    "visibility_2018 = pd.DataFrame()\n",
    "\n",
    "for i in range(1,13):\n",
    "    df = pd.read_csv(vis_url.format(i = i), parse_dates = [4], date_parser = pd.to_datetime, index_col = [4])\n",
    "    visibility_2018 = visibility_2018.append(df)"
   ]
  },
  {
   "cell_type": "markdown",
   "metadata": {},
   "source": [
    "### Process Data"
   ]
  },
  {
   "cell_type": "code",
   "execution_count": 3,
   "metadata": {},
   "outputs": [
    {
     "data": {
      "text/html": [
       "<div>\n",
       "<style scoped>\n",
       "    .dataframe tbody tr th:only-of-type {\n",
       "        vertical-align: middle;\n",
       "    }\n",
       "\n",
       "    .dataframe tbody tr th {\n",
       "        vertical-align: top;\n",
       "    }\n",
       "\n",
       "    .dataframe thead th {\n",
       "        text-align: right;\n",
       "    }\n",
       "</style>\n",
       "<table border=\"1\" class=\"dataframe\">\n",
       "  <thead>\n",
       "    <tr style=\"text-align: right;\">\n",
       "      <th></th>\n",
       "      <th>Daily Accident Count</th>\n",
       "    </tr>\n",
       "    <tr>\n",
       "      <th>Date/Time</th>\n",
       "      <th></th>\n",
       "    </tr>\n",
       "  </thead>\n",
       "  <tbody>\n",
       "    <tr>\n",
       "      <th>2018-01-01</th>\n",
       "      <td>12</td>\n",
       "    </tr>\n",
       "    <tr>\n",
       "      <th>2018-01-02</th>\n",
       "      <td>30</td>\n",
       "    </tr>\n",
       "    <tr>\n",
       "      <th>2018-01-03</th>\n",
       "      <td>26</td>\n",
       "    </tr>\n",
       "    <tr>\n",
       "      <th>2018-01-04</th>\n",
       "      <td>22</td>\n",
       "    </tr>\n",
       "    <tr>\n",
       "      <th>2018-01-05</th>\n",
       "      <td>20</td>\n",
       "    </tr>\n",
       "    <tr>\n",
       "      <th>...</th>\n",
       "      <td>...</td>\n",
       "    </tr>\n",
       "    <tr>\n",
       "      <th>2018-12-27</th>\n",
       "      <td>21</td>\n",
       "    </tr>\n",
       "    <tr>\n",
       "      <th>2018-12-28</th>\n",
       "      <td>10</td>\n",
       "    </tr>\n",
       "    <tr>\n",
       "      <th>2018-12-29</th>\n",
       "      <td>4</td>\n",
       "    </tr>\n",
       "    <tr>\n",
       "      <th>2018-12-30</th>\n",
       "      <td>11</td>\n",
       "    </tr>\n",
       "    <tr>\n",
       "      <th>2018-12-31</th>\n",
       "      <td>13</td>\n",
       "    </tr>\n",
       "  </tbody>\n",
       "</table>\n",
       "<p>365 rows × 1 columns</p>\n",
       "</div>"
      ],
      "text/plain": [
       "            Daily Accident Count\n",
       "Date/Time                       \n",
       "2018-01-01                    12\n",
       "2018-01-02                    30\n",
       "2018-01-03                    26\n",
       "2018-01-04                    22\n",
       "2018-01-05                    20\n",
       "...                          ...\n",
       "2018-12-27                    21\n",
       "2018-12-28                    10\n",
       "2018-12-29                     4\n",
       "2018-12-30                    11\n",
       "2018-12-31                    13\n",
       "\n",
       "[365 rows x 1 columns]"
      ]
     },
     "metadata": {},
     "output_type": "display_data"
    },
    {
     "data": {
      "text/html": [
       "<div>\n",
       "<style scoped>\n",
       "    .dataframe tbody tr th:only-of-type {\n",
       "        vertical-align: middle;\n",
       "    }\n",
       "\n",
       "    .dataframe tbody tr th {\n",
       "        vertical-align: top;\n",
       "    }\n",
       "\n",
       "    .dataframe thead th {\n",
       "        text-align: right;\n",
       "    }\n",
       "</style>\n",
       "<table border=\"1\" class=\"dataframe\">\n",
       "  <thead>\n",
       "    <tr style=\"text-align: right;\">\n",
       "      <th></th>\n",
       "      <th>Station Name</th>\n",
       "      <th>Mean Temp (°C)</th>\n",
       "      <th>Total Rain (mm)</th>\n",
       "      <th>Total Snow (cm)</th>\n",
       "      <th>Total Precip (mm)</th>\n",
       "      <th>Snow on Grnd (cm)</th>\n",
       "    </tr>\n",
       "    <tr>\n",
       "      <th>Date/Time</th>\n",
       "      <th></th>\n",
       "      <th></th>\n",
       "      <th></th>\n",
       "      <th></th>\n",
       "      <th></th>\n",
       "      <th></th>\n",
       "    </tr>\n",
       "  </thead>\n",
       "  <tbody>\n",
       "    <tr>\n",
       "      <th>2018-01-01</th>\n",
       "      <td>CALGARY INTL A</td>\n",
       "      <td>-15.8</td>\n",
       "      <td>0.0</td>\n",
       "      <td>0.0</td>\n",
       "      <td>0.0</td>\n",
       "      <td>18.0</td>\n",
       "    </tr>\n",
       "    <tr>\n",
       "      <th>2018-01-02</th>\n",
       "      <td>CALGARY INTL A</td>\n",
       "      <td>-4.5</td>\n",
       "      <td>0.0</td>\n",
       "      <td>0.0</td>\n",
       "      <td>0.0</td>\n",
       "      <td>17.0</td>\n",
       "    </tr>\n",
       "    <tr>\n",
       "      <th>2018-01-03</th>\n",
       "      <td>CALGARY INTL A</td>\n",
       "      <td>-2.5</td>\n",
       "      <td>0.0</td>\n",
       "      <td>0.0</td>\n",
       "      <td>0.0</td>\n",
       "      <td>16.0</td>\n",
       "    </tr>\n",
       "    <tr>\n",
       "      <th>2018-01-04</th>\n",
       "      <td>CALGARY INTL A</td>\n",
       "      <td>-4.9</td>\n",
       "      <td>0.0</td>\n",
       "      <td>0.0</td>\n",
       "      <td>0.0</td>\n",
       "      <td>14.0</td>\n",
       "    </tr>\n",
       "    <tr>\n",
       "      <th>2018-01-05</th>\n",
       "      <td>CALGARY INTL A</td>\n",
       "      <td>-1.3</td>\n",
       "      <td>0.0</td>\n",
       "      <td>0.0</td>\n",
       "      <td>0.0</td>\n",
       "      <td>10.0</td>\n",
       "    </tr>\n",
       "    <tr>\n",
       "      <th>...</th>\n",
       "      <td>...</td>\n",
       "      <td>...</td>\n",
       "      <td>...</td>\n",
       "      <td>...</td>\n",
       "      <td>...</td>\n",
       "      <td>...</td>\n",
       "    </tr>\n",
       "    <tr>\n",
       "      <th>2018-12-27</th>\n",
       "      <td>CALGARY INTL A</td>\n",
       "      <td>-7.3</td>\n",
       "      <td>0.0</td>\n",
       "      <td>1.0</td>\n",
       "      <td>0.8</td>\n",
       "      <td>4.0</td>\n",
       "    </tr>\n",
       "    <tr>\n",
       "      <th>2018-12-28</th>\n",
       "      <td>CALGARY INTL A</td>\n",
       "      <td>-5.6</td>\n",
       "      <td>0.0</td>\n",
       "      <td>0.0</td>\n",
       "      <td>0.0</td>\n",
       "      <td>4.0</td>\n",
       "    </tr>\n",
       "    <tr>\n",
       "      <th>2018-12-29</th>\n",
       "      <td>CALGARY INTL A</td>\n",
       "      <td>2.6</td>\n",
       "      <td>0.0</td>\n",
       "      <td>0.0</td>\n",
       "      <td>0.0</td>\n",
       "      <td>4.0</td>\n",
       "    </tr>\n",
       "    <tr>\n",
       "      <th>2018-12-30</th>\n",
       "      <td>CALGARY INTL A</td>\n",
       "      <td>-4.9</td>\n",
       "      <td>0.0</td>\n",
       "      <td>1.3</td>\n",
       "      <td>0.9</td>\n",
       "      <td>4.0</td>\n",
       "    </tr>\n",
       "    <tr>\n",
       "      <th>2018-12-31</th>\n",
       "      <td>CALGARY INTL A</td>\n",
       "      <td>-11.4</td>\n",
       "      <td>0.0</td>\n",
       "      <td>0.0</td>\n",
       "      <td>0.0</td>\n",
       "      <td>4.0</td>\n",
       "    </tr>\n",
       "  </tbody>\n",
       "</table>\n",
       "<p>365 rows × 6 columns</p>\n",
       "</div>"
      ],
      "text/plain": [
       "              Station Name  Mean Temp (°C)  Total Rain (mm)  Total Snow (cm)  \\\n",
       "Date/Time                                                                      \n",
       "2018-01-01  CALGARY INTL A           -15.8              0.0              0.0   \n",
       "2018-01-02  CALGARY INTL A            -4.5              0.0              0.0   \n",
       "2018-01-03  CALGARY INTL A            -2.5              0.0              0.0   \n",
       "2018-01-04  CALGARY INTL A            -4.9              0.0              0.0   \n",
       "2018-01-05  CALGARY INTL A            -1.3              0.0              0.0   \n",
       "...                    ...             ...              ...              ...   \n",
       "2018-12-27  CALGARY INTL A            -7.3              0.0              1.0   \n",
       "2018-12-28  CALGARY INTL A            -5.6              0.0              0.0   \n",
       "2018-12-29  CALGARY INTL A             2.6              0.0              0.0   \n",
       "2018-12-30  CALGARY INTL A            -4.9              0.0              1.3   \n",
       "2018-12-31  CALGARY INTL A           -11.4              0.0              0.0   \n",
       "\n",
       "            Total Precip (mm)  Snow on Grnd (cm)  \n",
       "Date/Time                                         \n",
       "2018-01-01                0.0               18.0  \n",
       "2018-01-02                0.0               17.0  \n",
       "2018-01-03                0.0               16.0  \n",
       "2018-01-04                0.0               14.0  \n",
       "2018-01-05                0.0               10.0  \n",
       "...                       ...                ...  \n",
       "2018-12-27                0.8                4.0  \n",
       "2018-12-28                0.0                4.0  \n",
       "2018-12-29                0.0                4.0  \n",
       "2018-12-30                0.9                4.0  \n",
       "2018-12-31                0.0                4.0  \n",
       "\n",
       "[365 rows x 6 columns]"
      ]
     },
     "metadata": {},
     "output_type": "display_data"
    },
    {
     "data": {
      "text/html": [
       "<div>\n",
       "<style scoped>\n",
       "    .dataframe tbody tr th:only-of-type {\n",
       "        vertical-align: middle;\n",
       "    }\n",
       "\n",
       "    .dataframe tbody tr th {\n",
       "        vertical-align: top;\n",
       "    }\n",
       "\n",
       "    .dataframe thead th {\n",
       "        text-align: right;\n",
       "    }\n",
       "</style>\n",
       "<table border=\"1\" class=\"dataframe\">\n",
       "  <thead>\n",
       "    <tr style=\"text-align: right;\">\n",
       "      <th></th>\n",
       "      <th>Temp (°C)</th>\n",
       "      <th>Dew Point Temp (°C)</th>\n",
       "      <th>Rel Hum (%)</th>\n",
       "      <th>Wind Spd (km/h)</th>\n",
       "      <th>Visibility (km)</th>\n",
       "      <th>Wind Chill</th>\n",
       "    </tr>\n",
       "    <tr>\n",
       "      <th>Date/Time</th>\n",
       "      <th></th>\n",
       "      <th></th>\n",
       "      <th></th>\n",
       "      <th></th>\n",
       "      <th></th>\n",
       "      <th></th>\n",
       "    </tr>\n",
       "  </thead>\n",
       "  <tbody>\n",
       "    <tr>\n",
       "      <th>2018-01-01</th>\n",
       "      <td>-16.683333</td>\n",
       "      <td>-22.166667</td>\n",
       "      <td>64.750000</td>\n",
       "      <td>7.083333</td>\n",
       "      <td>42.570833</td>\n",
       "      <td>-21.083333</td>\n",
       "    </tr>\n",
       "    <tr>\n",
       "      <th>2018-01-02</th>\n",
       "      <td>-3.787500</td>\n",
       "      <td>-10.108333</td>\n",
       "      <td>62.125000</td>\n",
       "      <td>6.166667</td>\n",
       "      <td>40.891667</td>\n",
       "      <td>-7.200000</td>\n",
       "    </tr>\n",
       "    <tr>\n",
       "      <th>2018-01-03</th>\n",
       "      <td>-2.391667</td>\n",
       "      <td>-7.120833</td>\n",
       "      <td>71.083333</td>\n",
       "      <td>4.500000</td>\n",
       "      <td>39.212500</td>\n",
       "      <td>-6.647059</td>\n",
       "    </tr>\n",
       "    <tr>\n",
       "      <th>2018-01-04</th>\n",
       "      <td>-5.016667</td>\n",
       "      <td>-8.591667</td>\n",
       "      <td>77.333333</td>\n",
       "      <td>4.416667</td>\n",
       "      <td>40.891667</td>\n",
       "      <td>-8.526316</td>\n",
       "    </tr>\n",
       "    <tr>\n",
       "      <th>2018-01-05</th>\n",
       "      <td>-0.345833</td>\n",
       "      <td>-5.733333</td>\n",
       "      <td>69.541667</td>\n",
       "      <td>9.583333</td>\n",
       "      <td>40.891667</td>\n",
       "      <td>-10.454545</td>\n",
       "    </tr>\n",
       "    <tr>\n",
       "      <th>...</th>\n",
       "      <td>...</td>\n",
       "      <td>...</td>\n",
       "      <td>...</td>\n",
       "      <td>...</td>\n",
       "      <td>...</td>\n",
       "      <td>...</td>\n",
       "    </tr>\n",
       "    <tr>\n",
       "      <th>2018-12-27</th>\n",
       "      <td>-7.225000</td>\n",
       "      <td>-9.450000</td>\n",
       "      <td>84.541667</td>\n",
       "      <td>8.625000</td>\n",
       "      <td>12.650000</td>\n",
       "      <td>-11.375000</td>\n",
       "    </tr>\n",
       "    <tr>\n",
       "      <th>2018-12-28</th>\n",
       "      <td>-4.633333</td>\n",
       "      <td>-12.187500</td>\n",
       "      <td>57.750000</td>\n",
       "      <td>12.000000</td>\n",
       "      <td>40.891667</td>\n",
       "      <td>-10.055556</td>\n",
       "    </tr>\n",
       "    <tr>\n",
       "      <th>2018-12-29</th>\n",
       "      <td>1.600000</td>\n",
       "      <td>-7.441667</td>\n",
       "      <td>52.708333</td>\n",
       "      <td>13.250000</td>\n",
       "      <td>38.475000</td>\n",
       "      <td>-5.400000</td>\n",
       "    </tr>\n",
       "    <tr>\n",
       "      <th>2018-12-30</th>\n",
       "      <td>-7.066667</td>\n",
       "      <td>-10.537500</td>\n",
       "      <td>77.208333</td>\n",
       "      <td>25.333333</td>\n",
       "      <td>16.958333</td>\n",
       "      <td>-16.904762</td>\n",
       "    </tr>\n",
       "    <tr>\n",
       "      <th>2018-12-31</th>\n",
       "      <td>-11.916667</td>\n",
       "      <td>-16.079167</td>\n",
       "      <td>72.125000</td>\n",
       "      <td>11.041667</td>\n",
       "      <td>38.145833</td>\n",
       "      <td>-17.708333</td>\n",
       "    </tr>\n",
       "  </tbody>\n",
       "</table>\n",
       "<p>365 rows × 6 columns</p>\n",
       "</div>"
      ],
      "text/plain": [
       "            Temp (°C)  Dew Point Temp (°C)  Rel Hum (%)  Wind Spd (km/h)  \\\n",
       "Date/Time                                                                  \n",
       "2018-01-01 -16.683333           -22.166667    64.750000         7.083333   \n",
       "2018-01-02  -3.787500           -10.108333    62.125000         6.166667   \n",
       "2018-01-03  -2.391667            -7.120833    71.083333         4.500000   \n",
       "2018-01-04  -5.016667            -8.591667    77.333333         4.416667   \n",
       "2018-01-05  -0.345833            -5.733333    69.541667         9.583333   \n",
       "...               ...                  ...          ...              ...   \n",
       "2018-12-27  -7.225000            -9.450000    84.541667         8.625000   \n",
       "2018-12-28  -4.633333           -12.187500    57.750000        12.000000   \n",
       "2018-12-29   1.600000            -7.441667    52.708333        13.250000   \n",
       "2018-12-30  -7.066667           -10.537500    77.208333        25.333333   \n",
       "2018-12-31 -11.916667           -16.079167    72.125000        11.041667   \n",
       "\n",
       "            Visibility (km)  Wind Chill  \n",
       "Date/Time                                \n",
       "2018-01-01        42.570833  -21.083333  \n",
       "2018-01-02        40.891667   -7.200000  \n",
       "2018-01-03        39.212500   -6.647059  \n",
       "2018-01-04        40.891667   -8.526316  \n",
       "2018-01-05        40.891667  -10.454545  \n",
       "...                     ...         ...  \n",
       "2018-12-27        12.650000  -11.375000  \n",
       "2018-12-28        40.891667  -10.055556  \n",
       "2018-12-29        38.475000   -5.400000  \n",
       "2018-12-30        16.958333  -16.904762  \n",
       "2018-12-31        38.145833  -17.708333  \n",
       "\n",
       "[365 rows x 6 columns]"
      ]
     },
     "metadata": {},
     "output_type": "display_data"
    }
   ],
   "source": [
    "#Traffic Incidents\n",
    "traffic_incidents = traffic_incidents.rename(columns = {'START_DT' : 'Date/Time'}) \n",
    "traffic_incidents = traffic_incidents.rename(columns = {'Count' : 'Daily Accident Count'}) \n",
    "traffic_incidents = traffic_incidents.set_index('Date/Time')\n",
    "traffic_incidents = pd.DataFrame(traffic_incidents['Daily Accident Count'].resample('D').sum())\n",
    "\n",
    "#Weather Data\n",
    "weather_2018 = weather_2018.drop(['Year', 'Month', 'Day','Max Temp (°C)', 'Min Temp (°C)','Longitude (x)', 'Latitude (y)', 'Climate ID', 'Data Quality',\n",
    "                                  'Max Temp Flag', 'Min Temp Flag', 'Mean Temp Flag', 'Heat Deg Days (°C)', 'Heat Deg Days Flag',\n",
    "                                  'Cool Deg Days Flag', 'Cool Deg Days (°C)', 'Total Rain Flag', 'Total Snow Flag','Total Precip Flag',\n",
    "                                 'Snow on Grnd Flag', 'Dir of Max Gust (10s deg)', 'Dir of Max Gust Flag',\n",
    "                                  'Dir of Max Gust Flag', 'Spd of Max Gust (km/h)', 'Spd of Max Gust Flag'], axis = 1)\n",
    "\n",
    "visibility_2018 = visibility_2018[['Station Name', 'Temp (°C)','Dew Point Temp (°C)','Rel Hum (%)','Wind Spd (km/h)','Visibility (km)',\n",
    "                                    'Wind Chill', 'Weather']]\n",
    "\n",
    "#Resample visibility data to calculate daily mean of categories\n",
    "visibility_2018 = visibility_2018.resample('D').mean()\n",
    "\n",
    "display(traffic_incidents, weather_2018, visibility_2018)"
   ]
  },
  {
   "cell_type": "code",
   "execution_count": 4,
   "metadata": {},
   "outputs": [
    {
     "data": {
      "text/html": [
       "<div>\n",
       "<style scoped>\n",
       "    .dataframe tbody tr th:only-of-type {\n",
       "        vertical-align: middle;\n",
       "    }\n",
       "\n",
       "    .dataframe tbody tr th {\n",
       "        vertical-align: top;\n",
       "    }\n",
       "\n",
       "    .dataframe thead th {\n",
       "        text-align: right;\n",
       "    }\n",
       "</style>\n",
       "<table border=\"1\" class=\"dataframe\">\n",
       "  <thead>\n",
       "    <tr style=\"text-align: right;\">\n",
       "      <th></th>\n",
       "      <th>Station Name</th>\n",
       "      <th>Daily Accident Count</th>\n",
       "      <th>Mean Temp (°C)</th>\n",
       "      <th>Total Rain (mm)</th>\n",
       "      <th>Total Snow (cm)</th>\n",
       "      <th>Total Precip (mm)</th>\n",
       "      <th>Snow on Grnd (cm)</th>\n",
       "      <th>Temp (°C)</th>\n",
       "      <th>Dew Point Temp (°C)</th>\n",
       "      <th>Rel Hum (%)</th>\n",
       "      <th>Wind Spd (km/h)</th>\n",
       "      <th>Visibility (km)</th>\n",
       "      <th>Wind Chill</th>\n",
       "    </tr>\n",
       "    <tr>\n",
       "      <th>Date/Time</th>\n",
       "      <th></th>\n",
       "      <th></th>\n",
       "      <th></th>\n",
       "      <th></th>\n",
       "      <th></th>\n",
       "      <th></th>\n",
       "      <th></th>\n",
       "      <th></th>\n",
       "      <th></th>\n",
       "      <th></th>\n",
       "      <th></th>\n",
       "      <th></th>\n",
       "      <th></th>\n",
       "    </tr>\n",
       "  </thead>\n",
       "  <tbody>\n",
       "    <tr>\n",
       "      <th>2018-01-01</th>\n",
       "      <td>CALGARY INTL A</td>\n",
       "      <td>12</td>\n",
       "      <td>-15.8</td>\n",
       "      <td>0.0</td>\n",
       "      <td>0.0</td>\n",
       "      <td>0.0</td>\n",
       "      <td>18.0</td>\n",
       "      <td>-16.683333</td>\n",
       "      <td>-22.166667</td>\n",
       "      <td>64.750000</td>\n",
       "      <td>7.083333</td>\n",
       "      <td>42.570833</td>\n",
       "      <td>-21.083333</td>\n",
       "    </tr>\n",
       "    <tr>\n",
       "      <th>2018-01-02</th>\n",
       "      <td>CALGARY INTL A</td>\n",
       "      <td>30</td>\n",
       "      <td>-4.5</td>\n",
       "      <td>0.0</td>\n",
       "      <td>0.0</td>\n",
       "      <td>0.0</td>\n",
       "      <td>17.0</td>\n",
       "      <td>-3.787500</td>\n",
       "      <td>-10.108333</td>\n",
       "      <td>62.125000</td>\n",
       "      <td>6.166667</td>\n",
       "      <td>40.891667</td>\n",
       "      <td>-7.200000</td>\n",
       "    </tr>\n",
       "    <tr>\n",
       "      <th>2018-01-03</th>\n",
       "      <td>CALGARY INTL A</td>\n",
       "      <td>26</td>\n",
       "      <td>-2.5</td>\n",
       "      <td>0.0</td>\n",
       "      <td>0.0</td>\n",
       "      <td>0.0</td>\n",
       "      <td>16.0</td>\n",
       "      <td>-2.391667</td>\n",
       "      <td>-7.120833</td>\n",
       "      <td>71.083333</td>\n",
       "      <td>4.500000</td>\n",
       "      <td>39.212500</td>\n",
       "      <td>-6.647059</td>\n",
       "    </tr>\n",
       "    <tr>\n",
       "      <th>2018-01-04</th>\n",
       "      <td>CALGARY INTL A</td>\n",
       "      <td>22</td>\n",
       "      <td>-4.9</td>\n",
       "      <td>0.0</td>\n",
       "      <td>0.0</td>\n",
       "      <td>0.0</td>\n",
       "      <td>14.0</td>\n",
       "      <td>-5.016667</td>\n",
       "      <td>-8.591667</td>\n",
       "      <td>77.333333</td>\n",
       "      <td>4.416667</td>\n",
       "      <td>40.891667</td>\n",
       "      <td>-8.526316</td>\n",
       "    </tr>\n",
       "    <tr>\n",
       "      <th>2018-01-05</th>\n",
       "      <td>CALGARY INTL A</td>\n",
       "      <td>20</td>\n",
       "      <td>-1.3</td>\n",
       "      <td>0.0</td>\n",
       "      <td>0.0</td>\n",
       "      <td>0.0</td>\n",
       "      <td>10.0</td>\n",
       "      <td>-0.345833</td>\n",
       "      <td>-5.733333</td>\n",
       "      <td>69.541667</td>\n",
       "      <td>9.583333</td>\n",
       "      <td>40.891667</td>\n",
       "      <td>-10.454545</td>\n",
       "    </tr>\n",
       "    <tr>\n",
       "      <th>...</th>\n",
       "      <td>...</td>\n",
       "      <td>...</td>\n",
       "      <td>...</td>\n",
       "      <td>...</td>\n",
       "      <td>...</td>\n",
       "      <td>...</td>\n",
       "      <td>...</td>\n",
       "      <td>...</td>\n",
       "      <td>...</td>\n",
       "      <td>...</td>\n",
       "      <td>...</td>\n",
       "      <td>...</td>\n",
       "      <td>...</td>\n",
       "    </tr>\n",
       "    <tr>\n",
       "      <th>2018-12-27</th>\n",
       "      <td>CALGARY INTL A</td>\n",
       "      <td>21</td>\n",
       "      <td>-7.3</td>\n",
       "      <td>0.0</td>\n",
       "      <td>1.0</td>\n",
       "      <td>0.8</td>\n",
       "      <td>4.0</td>\n",
       "      <td>-7.225000</td>\n",
       "      <td>-9.450000</td>\n",
       "      <td>84.541667</td>\n",
       "      <td>8.625000</td>\n",
       "      <td>12.650000</td>\n",
       "      <td>-11.375000</td>\n",
       "    </tr>\n",
       "    <tr>\n",
       "      <th>2018-12-28</th>\n",
       "      <td>CALGARY INTL A</td>\n",
       "      <td>10</td>\n",
       "      <td>-5.6</td>\n",
       "      <td>0.0</td>\n",
       "      <td>0.0</td>\n",
       "      <td>0.0</td>\n",
       "      <td>4.0</td>\n",
       "      <td>-4.633333</td>\n",
       "      <td>-12.187500</td>\n",
       "      <td>57.750000</td>\n",
       "      <td>12.000000</td>\n",
       "      <td>40.891667</td>\n",
       "      <td>-10.055556</td>\n",
       "    </tr>\n",
       "    <tr>\n",
       "      <th>2018-12-29</th>\n",
       "      <td>CALGARY INTL A</td>\n",
       "      <td>4</td>\n",
       "      <td>2.6</td>\n",
       "      <td>0.0</td>\n",
       "      <td>0.0</td>\n",
       "      <td>0.0</td>\n",
       "      <td>4.0</td>\n",
       "      <td>1.600000</td>\n",
       "      <td>-7.441667</td>\n",
       "      <td>52.708333</td>\n",
       "      <td>13.250000</td>\n",
       "      <td>38.475000</td>\n",
       "      <td>-5.400000</td>\n",
       "    </tr>\n",
       "    <tr>\n",
       "      <th>2018-12-30</th>\n",
       "      <td>CALGARY INTL A</td>\n",
       "      <td>11</td>\n",
       "      <td>-4.9</td>\n",
       "      <td>0.0</td>\n",
       "      <td>1.3</td>\n",
       "      <td>0.9</td>\n",
       "      <td>4.0</td>\n",
       "      <td>-7.066667</td>\n",
       "      <td>-10.537500</td>\n",
       "      <td>77.208333</td>\n",
       "      <td>25.333333</td>\n",
       "      <td>16.958333</td>\n",
       "      <td>-16.904762</td>\n",
       "    </tr>\n",
       "    <tr>\n",
       "      <th>2018-12-31</th>\n",
       "      <td>CALGARY INTL A</td>\n",
       "      <td>13</td>\n",
       "      <td>-11.4</td>\n",
       "      <td>0.0</td>\n",
       "      <td>0.0</td>\n",
       "      <td>0.0</td>\n",
       "      <td>4.0</td>\n",
       "      <td>-11.916667</td>\n",
       "      <td>-16.079167</td>\n",
       "      <td>72.125000</td>\n",
       "      <td>11.041667</td>\n",
       "      <td>38.145833</td>\n",
       "      <td>-17.708333</td>\n",
       "    </tr>\n",
       "  </tbody>\n",
       "</table>\n",
       "<p>365 rows × 13 columns</p>\n",
       "</div>"
      ],
      "text/plain": [
       "              Station Name  Daily Accident Count  Mean Temp (°C)  \\\n",
       "Date/Time                                                          \n",
       "2018-01-01  CALGARY INTL A                    12           -15.8   \n",
       "2018-01-02  CALGARY INTL A                    30            -4.5   \n",
       "2018-01-03  CALGARY INTL A                    26            -2.5   \n",
       "2018-01-04  CALGARY INTL A                    22            -4.9   \n",
       "2018-01-05  CALGARY INTL A                    20            -1.3   \n",
       "...                    ...                   ...             ...   \n",
       "2018-12-27  CALGARY INTL A                    21            -7.3   \n",
       "2018-12-28  CALGARY INTL A                    10            -5.6   \n",
       "2018-12-29  CALGARY INTL A                     4             2.6   \n",
       "2018-12-30  CALGARY INTL A                    11            -4.9   \n",
       "2018-12-31  CALGARY INTL A                    13           -11.4   \n",
       "\n",
       "            Total Rain (mm)  Total Snow (cm)  Total Precip (mm)  \\\n",
       "Date/Time                                                         \n",
       "2018-01-01              0.0              0.0                0.0   \n",
       "2018-01-02              0.0              0.0                0.0   \n",
       "2018-01-03              0.0              0.0                0.0   \n",
       "2018-01-04              0.0              0.0                0.0   \n",
       "2018-01-05              0.0              0.0                0.0   \n",
       "...                     ...              ...                ...   \n",
       "2018-12-27              0.0              1.0                0.8   \n",
       "2018-12-28              0.0              0.0                0.0   \n",
       "2018-12-29              0.0              0.0                0.0   \n",
       "2018-12-30              0.0              1.3                0.9   \n",
       "2018-12-31              0.0              0.0                0.0   \n",
       "\n",
       "            Snow on Grnd (cm)  Temp (°C)  Dew Point Temp (°C)  Rel Hum (%)  \\\n",
       "Date/Time                                                                    \n",
       "2018-01-01               18.0 -16.683333           -22.166667    64.750000   \n",
       "2018-01-02               17.0  -3.787500           -10.108333    62.125000   \n",
       "2018-01-03               16.0  -2.391667            -7.120833    71.083333   \n",
       "2018-01-04               14.0  -5.016667            -8.591667    77.333333   \n",
       "2018-01-05               10.0  -0.345833            -5.733333    69.541667   \n",
       "...                       ...        ...                  ...          ...   \n",
       "2018-12-27                4.0  -7.225000            -9.450000    84.541667   \n",
       "2018-12-28                4.0  -4.633333           -12.187500    57.750000   \n",
       "2018-12-29                4.0   1.600000            -7.441667    52.708333   \n",
       "2018-12-30                4.0  -7.066667           -10.537500    77.208333   \n",
       "2018-12-31                4.0 -11.916667           -16.079167    72.125000   \n",
       "\n",
       "            Wind Spd (km/h)  Visibility (km)  Wind Chill  \n",
       "Date/Time                                                 \n",
       "2018-01-01         7.083333        42.570833  -21.083333  \n",
       "2018-01-02         6.166667        40.891667   -7.200000  \n",
       "2018-01-03         4.500000        39.212500   -6.647059  \n",
       "2018-01-04         4.416667        40.891667   -8.526316  \n",
       "2018-01-05         9.583333        40.891667  -10.454545  \n",
       "...                     ...              ...         ...  \n",
       "2018-12-27         8.625000        12.650000  -11.375000  \n",
       "2018-12-28        12.000000        40.891667  -10.055556  \n",
       "2018-12-29        13.250000        38.475000   -5.400000  \n",
       "2018-12-30        25.333333        16.958333  -16.904762  \n",
       "2018-12-31        11.041667        38.145833  -17.708333  \n",
       "\n",
       "[365 rows x 13 columns]"
      ]
     },
     "metadata": {},
     "output_type": "display_data"
    }
   ],
   "source": [
    "weather_combined = pd.merge(weather_2018, visibility_2018, left_index = True, right_index = True, sort = True)\n",
    "weather_combined = pd.merge(weather_combined, traffic_incidents, left_index = True, right_index = True, sort = True)\n",
    "\n",
    "first_col = weather_combined.pop('Daily Accident Count')\n",
    "weather_combined.insert(1, 'Daily Accident Count', first_col)\n",
    "\n",
    "display(weather_combined)"
   ]
  },
  {
   "cell_type": "code",
   "execution_count": 5,
   "metadata": {},
   "outputs": [
    {
     "data": {
      "text/plain": [
       "minX                       51.027623\n",
       "maxX                       51.064584\n",
       "minY                     -114.087851\n",
       "maxY                     -114.042261\n",
       "accident                  465.000000\n",
       "signals                   223.000000\n",
       "cameras                    22.000000\n",
       "SPEED                      35.833333\n",
       "Average Speed Count        12.000000\n",
       "VOLUME                  13595.419847\n",
       "Average Volume Count      262.000000\n",
       "Signs                   33465.000000\n",
       "Name: 55, dtype: float64"
      ]
     },
     "execution_count": 5,
     "metadata": {},
     "output_type": "execute_result"
    }
   ],
   "source": [
    "incident_factors = pd.read_csv(\"gridCSV.csv\")\n",
    "incident_factors = incident_factors.drop(['Unnamed: 0'], axis = 1)\n",
    "incident_factors.loc[55]"
   ]
  },
  {
   "cell_type": "markdown",
   "metadata": {},
   "source": [
    "## What is the relation between the number of accidents and the stated feature?"
   ]
  },
  {
   "cell_type": "markdown",
   "metadata": {},
   "source": [
    "### Histogram, Scatter Plot, Line Graph, Heatmap, Correlations (Spearman rank)"
   ]
  },
  {
   "cell_type": "markdown",
   "metadata": {},
   "source": [
    "## Average Speed Limit vs. Traffic Accidents"
   ]
  },
  {
   "cell_type": "markdown",
   "metadata": {},
   "source": [
    "#### Heatmap"
   ]
  },
  {
   "cell_type": "code",
   "execution_count": 6,
   "metadata": {},
   "outputs": [
    {
     "data": {
      "text/html": [
       "<div>\n",
       "<style scoped>\n",
       "    .dataframe tbody tr th:only-of-type {\n",
       "        vertical-align: middle;\n",
       "    }\n",
       "\n",
       "    .dataframe tbody tr th {\n",
       "        vertical-align: top;\n",
       "    }\n",
       "\n",
       "    .dataframe thead th {\n",
       "        text-align: right;\n",
       "    }\n",
       "</style>\n",
       "<table border=\"1\" class=\"dataframe\">\n",
       "  <thead>\n",
       "    <tr style=\"text-align: right;\">\n",
       "      <th></th>\n",
       "      <th>Station Name</th>\n",
       "      <th>Daily Accident Count</th>\n",
       "      <th>Mean Temp (°C)</th>\n",
       "      <th>Total Rain (mm)</th>\n",
       "      <th>Total Snow (cm)</th>\n",
       "      <th>Total Precip (mm)</th>\n",
       "      <th>Snow on Grnd (cm)</th>\n",
       "      <th>Temp (°C)</th>\n",
       "      <th>Dew Point Temp (°C)</th>\n",
       "      <th>Rel Hum (%)</th>\n",
       "      <th>Wind Spd (km/h)</th>\n",
       "      <th>Visibility (km)</th>\n",
       "      <th>Wind Chill</th>\n",
       "    </tr>\n",
       "    <tr>\n",
       "      <th>Date/Time</th>\n",
       "      <th></th>\n",
       "      <th></th>\n",
       "      <th></th>\n",
       "      <th></th>\n",
       "      <th></th>\n",
       "      <th></th>\n",
       "      <th></th>\n",
       "      <th></th>\n",
       "      <th></th>\n",
       "      <th></th>\n",
       "      <th></th>\n",
       "      <th></th>\n",
       "      <th></th>\n",
       "    </tr>\n",
       "  </thead>\n",
       "  <tbody>\n",
       "    <tr>\n",
       "      <th>2018-01-01</th>\n",
       "      <td>CALGARY INTL A</td>\n",
       "      <td>12</td>\n",
       "      <td>-15.8</td>\n",
       "      <td>0.0</td>\n",
       "      <td>0.0</td>\n",
       "      <td>0.0</td>\n",
       "      <td>18.0</td>\n",
       "      <td>-16.683333</td>\n",
       "      <td>-22.166667</td>\n",
       "      <td>64.750000</td>\n",
       "      <td>7.083333</td>\n",
       "      <td>42.570833</td>\n",
       "      <td>-21.083333</td>\n",
       "    </tr>\n",
       "    <tr>\n",
       "      <th>2018-01-02</th>\n",
       "      <td>CALGARY INTL A</td>\n",
       "      <td>30</td>\n",
       "      <td>-4.5</td>\n",
       "      <td>0.0</td>\n",
       "      <td>0.0</td>\n",
       "      <td>0.0</td>\n",
       "      <td>17.0</td>\n",
       "      <td>-3.787500</td>\n",
       "      <td>-10.108333</td>\n",
       "      <td>62.125000</td>\n",
       "      <td>6.166667</td>\n",
       "      <td>40.891667</td>\n",
       "      <td>-7.200000</td>\n",
       "    </tr>\n",
       "    <tr>\n",
       "      <th>2018-01-03</th>\n",
       "      <td>CALGARY INTL A</td>\n",
       "      <td>26</td>\n",
       "      <td>-2.5</td>\n",
       "      <td>0.0</td>\n",
       "      <td>0.0</td>\n",
       "      <td>0.0</td>\n",
       "      <td>16.0</td>\n",
       "      <td>-2.391667</td>\n",
       "      <td>-7.120833</td>\n",
       "      <td>71.083333</td>\n",
       "      <td>4.500000</td>\n",
       "      <td>39.212500</td>\n",
       "      <td>-6.647059</td>\n",
       "    </tr>\n",
       "    <tr>\n",
       "      <th>2018-01-04</th>\n",
       "      <td>CALGARY INTL A</td>\n",
       "      <td>22</td>\n",
       "      <td>-4.9</td>\n",
       "      <td>0.0</td>\n",
       "      <td>0.0</td>\n",
       "      <td>0.0</td>\n",
       "      <td>14.0</td>\n",
       "      <td>-5.016667</td>\n",
       "      <td>-8.591667</td>\n",
       "      <td>77.333333</td>\n",
       "      <td>4.416667</td>\n",
       "      <td>40.891667</td>\n",
       "      <td>-8.526316</td>\n",
       "    </tr>\n",
       "    <tr>\n",
       "      <th>2018-01-05</th>\n",
       "      <td>CALGARY INTL A</td>\n",
       "      <td>20</td>\n",
       "      <td>-1.3</td>\n",
       "      <td>0.0</td>\n",
       "      <td>0.0</td>\n",
       "      <td>0.0</td>\n",
       "      <td>10.0</td>\n",
       "      <td>-0.345833</td>\n",
       "      <td>-5.733333</td>\n",
       "      <td>69.541667</td>\n",
       "      <td>9.583333</td>\n",
       "      <td>40.891667</td>\n",
       "      <td>-10.454545</td>\n",
       "    </tr>\n",
       "    <tr>\n",
       "      <th>...</th>\n",
       "      <td>...</td>\n",
       "      <td>...</td>\n",
       "      <td>...</td>\n",
       "      <td>...</td>\n",
       "      <td>...</td>\n",
       "      <td>...</td>\n",
       "      <td>...</td>\n",
       "      <td>...</td>\n",
       "      <td>...</td>\n",
       "      <td>...</td>\n",
       "      <td>...</td>\n",
       "      <td>...</td>\n",
       "      <td>...</td>\n",
       "    </tr>\n",
       "    <tr>\n",
       "      <th>2018-12-27</th>\n",
       "      <td>CALGARY INTL A</td>\n",
       "      <td>21</td>\n",
       "      <td>-7.3</td>\n",
       "      <td>0.0</td>\n",
       "      <td>1.0</td>\n",
       "      <td>0.8</td>\n",
       "      <td>4.0</td>\n",
       "      <td>-7.225000</td>\n",
       "      <td>-9.450000</td>\n",
       "      <td>84.541667</td>\n",
       "      <td>8.625000</td>\n",
       "      <td>12.650000</td>\n",
       "      <td>-11.375000</td>\n",
       "    </tr>\n",
       "    <tr>\n",
       "      <th>2018-12-28</th>\n",
       "      <td>CALGARY INTL A</td>\n",
       "      <td>10</td>\n",
       "      <td>-5.6</td>\n",
       "      <td>0.0</td>\n",
       "      <td>0.0</td>\n",
       "      <td>0.0</td>\n",
       "      <td>4.0</td>\n",
       "      <td>-4.633333</td>\n",
       "      <td>-12.187500</td>\n",
       "      <td>57.750000</td>\n",
       "      <td>12.000000</td>\n",
       "      <td>40.891667</td>\n",
       "      <td>-10.055556</td>\n",
       "    </tr>\n",
       "    <tr>\n",
       "      <th>2018-12-29</th>\n",
       "      <td>CALGARY INTL A</td>\n",
       "      <td>4</td>\n",
       "      <td>2.6</td>\n",
       "      <td>0.0</td>\n",
       "      <td>0.0</td>\n",
       "      <td>0.0</td>\n",
       "      <td>4.0</td>\n",
       "      <td>1.600000</td>\n",
       "      <td>-7.441667</td>\n",
       "      <td>52.708333</td>\n",
       "      <td>13.250000</td>\n",
       "      <td>38.475000</td>\n",
       "      <td>-5.400000</td>\n",
       "    </tr>\n",
       "    <tr>\n",
       "      <th>2018-12-30</th>\n",
       "      <td>CALGARY INTL A</td>\n",
       "      <td>11</td>\n",
       "      <td>-4.9</td>\n",
       "      <td>0.0</td>\n",
       "      <td>1.3</td>\n",
       "      <td>0.9</td>\n",
       "      <td>4.0</td>\n",
       "      <td>-7.066667</td>\n",
       "      <td>-10.537500</td>\n",
       "      <td>77.208333</td>\n",
       "      <td>25.333333</td>\n",
       "      <td>16.958333</td>\n",
       "      <td>-16.904762</td>\n",
       "    </tr>\n",
       "    <tr>\n",
       "      <th>2018-12-31</th>\n",
       "      <td>CALGARY INTL A</td>\n",
       "      <td>13</td>\n",
       "      <td>-11.4</td>\n",
       "      <td>0.0</td>\n",
       "      <td>0.0</td>\n",
       "      <td>0.0</td>\n",
       "      <td>4.0</td>\n",
       "      <td>-11.916667</td>\n",
       "      <td>-16.079167</td>\n",
       "      <td>72.125000</td>\n",
       "      <td>11.041667</td>\n",
       "      <td>38.145833</td>\n",
       "      <td>-17.708333</td>\n",
       "    </tr>\n",
       "  </tbody>\n",
       "</table>\n",
       "<p>365 rows × 13 columns</p>\n",
       "</div>"
      ],
      "text/plain": [
       "              Station Name  Daily Accident Count  Mean Temp (°C)  \\\n",
       "Date/Time                                                          \n",
       "2018-01-01  CALGARY INTL A                    12           -15.8   \n",
       "2018-01-02  CALGARY INTL A                    30            -4.5   \n",
       "2018-01-03  CALGARY INTL A                    26            -2.5   \n",
       "2018-01-04  CALGARY INTL A                    22            -4.9   \n",
       "2018-01-05  CALGARY INTL A                    20            -1.3   \n",
       "...                    ...                   ...             ...   \n",
       "2018-12-27  CALGARY INTL A                    21            -7.3   \n",
       "2018-12-28  CALGARY INTL A                    10            -5.6   \n",
       "2018-12-29  CALGARY INTL A                     4             2.6   \n",
       "2018-12-30  CALGARY INTL A                    11            -4.9   \n",
       "2018-12-31  CALGARY INTL A                    13           -11.4   \n",
       "\n",
       "            Total Rain (mm)  Total Snow (cm)  Total Precip (mm)  \\\n",
       "Date/Time                                                         \n",
       "2018-01-01              0.0              0.0                0.0   \n",
       "2018-01-02              0.0              0.0                0.0   \n",
       "2018-01-03              0.0              0.0                0.0   \n",
       "2018-01-04              0.0              0.0                0.0   \n",
       "2018-01-05              0.0              0.0                0.0   \n",
       "...                     ...              ...                ...   \n",
       "2018-12-27              0.0              1.0                0.8   \n",
       "2018-12-28              0.0              0.0                0.0   \n",
       "2018-12-29              0.0              0.0                0.0   \n",
       "2018-12-30              0.0              1.3                0.9   \n",
       "2018-12-31              0.0              0.0                0.0   \n",
       "\n",
       "            Snow on Grnd (cm)  Temp (°C)  Dew Point Temp (°C)  Rel Hum (%)  \\\n",
       "Date/Time                                                                    \n",
       "2018-01-01               18.0 -16.683333           -22.166667    64.750000   \n",
       "2018-01-02               17.0  -3.787500           -10.108333    62.125000   \n",
       "2018-01-03               16.0  -2.391667            -7.120833    71.083333   \n",
       "2018-01-04               14.0  -5.016667            -8.591667    77.333333   \n",
       "2018-01-05               10.0  -0.345833            -5.733333    69.541667   \n",
       "...                       ...        ...                  ...          ...   \n",
       "2018-12-27                4.0  -7.225000            -9.450000    84.541667   \n",
       "2018-12-28                4.0  -4.633333           -12.187500    57.750000   \n",
       "2018-12-29                4.0   1.600000            -7.441667    52.708333   \n",
       "2018-12-30                4.0  -7.066667           -10.537500    77.208333   \n",
       "2018-12-31                4.0 -11.916667           -16.079167    72.125000   \n",
       "\n",
       "            Wind Spd (km/h)  Visibility (km)  Wind Chill  \n",
       "Date/Time                                                 \n",
       "2018-01-01         7.083333        42.570833  -21.083333  \n",
       "2018-01-02         6.166667        40.891667   -7.200000  \n",
       "2018-01-03         4.500000        39.212500   -6.647059  \n",
       "2018-01-04         4.416667        40.891667   -8.526316  \n",
       "2018-01-05         9.583333        40.891667  -10.454545  \n",
       "...                     ...              ...         ...  \n",
       "2018-12-27         8.625000        12.650000  -11.375000  \n",
       "2018-12-28        12.000000        40.891667  -10.055556  \n",
       "2018-12-29        13.250000        38.475000   -5.400000  \n",
       "2018-12-30        25.333333        16.958333  -16.904762  \n",
       "2018-12-31        11.041667        38.145833  -17.708333  \n",
       "\n",
       "[365 rows x 13 columns]"
      ]
     },
     "execution_count": 6,
     "metadata": {},
     "output_type": "execute_result"
    }
   ],
   "source": [
    "weather_combined\n",
    "# average_speed_hist = incident_factors['SPEED'].hist()\n",
    "\n",
    "# display(incident_factors['SPEED'].describe(), average_speed_hist)"
   ]
  },
  {
   "cell_type": "code",
   "execution_count": 41,
   "metadata": {},
   "outputs": [
    {
     "data": {
      "text/html": [
       "<div>\n",
       "<style scoped>\n",
       "    .dataframe tbody tr th:only-of-type {\n",
       "        vertical-align: middle;\n",
       "    }\n",
       "\n",
       "    .dataframe tbody tr th {\n",
       "        vertical-align: top;\n",
       "    }\n",
       "\n",
       "    .dataframe thead th {\n",
       "        text-align: right;\n",
       "    }\n",
       "</style>\n",
       "<table border=\"1\" class=\"dataframe\">\n",
       "  <thead>\n",
       "    <tr style=\"text-align: right;\">\n",
       "      <th></th>\n",
       "      <th>minX</th>\n",
       "      <th>maxX</th>\n",
       "      <th>minY</th>\n",
       "      <th>maxY</th>\n",
       "      <th>accident</th>\n",
       "      <th>signals</th>\n",
       "      <th>cameras</th>\n",
       "      <th>SPEED</th>\n",
       "      <th>Average Speed Count</th>\n",
       "      <th>VOLUME</th>\n",
       "      <th>Average Volume Count</th>\n",
       "      <th>Signs</th>\n",
       "    </tr>\n",
       "  </thead>\n",
       "  <tbody>\n",
       "    <tr>\n",
       "      <th>0</th>\n",
       "      <td>50.842822</td>\n",
       "      <td>50.879782</td>\n",
       "      <td>-114.315796</td>\n",
       "      <td>-114.270207</td>\n",
       "      <td>0</td>\n",
       "      <td>0</td>\n",
       "      <td>0</td>\n",
       "      <td>0.000000</td>\n",
       "      <td>0</td>\n",
       "      <td>0.000000</td>\n",
       "      <td>0</td>\n",
       "      <td>0</td>\n",
       "    </tr>\n",
       "    <tr>\n",
       "      <th>1</th>\n",
       "      <td>50.842822</td>\n",
       "      <td>50.879782</td>\n",
       "      <td>-114.270207</td>\n",
       "      <td>-114.224618</td>\n",
       "      <td>0</td>\n",
       "      <td>0</td>\n",
       "      <td>0</td>\n",
       "      <td>0.000000</td>\n",
       "      <td>0</td>\n",
       "      <td>0.000000</td>\n",
       "      <td>0</td>\n",
       "      <td>0</td>\n",
       "    </tr>\n",
       "    <tr>\n",
       "      <th>2</th>\n",
       "      <td>50.842822</td>\n",
       "      <td>50.879782</td>\n",
       "      <td>-114.224618</td>\n",
       "      <td>-114.179029</td>\n",
       "      <td>0</td>\n",
       "      <td>0</td>\n",
       "      <td>0</td>\n",
       "      <td>0.000000</td>\n",
       "      <td>0</td>\n",
       "      <td>0.000000</td>\n",
       "      <td>0</td>\n",
       "      <td>0</td>\n",
       "    </tr>\n",
       "    <tr>\n",
       "      <th>3</th>\n",
       "      <td>50.842822</td>\n",
       "      <td>50.879782</td>\n",
       "      <td>-114.179029</td>\n",
       "      <td>-114.133440</td>\n",
       "      <td>0</td>\n",
       "      <td>0</td>\n",
       "      <td>0</td>\n",
       "      <td>0.000000</td>\n",
       "      <td>0</td>\n",
       "      <td>0.000000</td>\n",
       "      <td>0</td>\n",
       "      <td>0</td>\n",
       "    </tr>\n",
       "    <tr>\n",
       "      <th>4</th>\n",
       "      <td>50.842822</td>\n",
       "      <td>50.879782</td>\n",
       "      <td>-114.133440</td>\n",
       "      <td>-114.087851</td>\n",
       "      <td>0</td>\n",
       "      <td>0</td>\n",
       "      <td>0</td>\n",
       "      <td>0.000000</td>\n",
       "      <td>0</td>\n",
       "      <td>0.000000</td>\n",
       "      <td>0</td>\n",
       "      <td>54</td>\n",
       "    </tr>\n",
       "    <tr>\n",
       "      <th>...</th>\n",
       "      <td>...</td>\n",
       "      <td>...</td>\n",
       "      <td>...</td>\n",
       "      <td>...</td>\n",
       "      <td>...</td>\n",
       "      <td>...</td>\n",
       "      <td>...</td>\n",
       "      <td>...</td>\n",
       "      <td>...</td>\n",
       "      <td>...</td>\n",
       "      <td>...</td>\n",
       "      <td>...</td>\n",
       "    </tr>\n",
       "    <tr>\n",
       "      <th>95</th>\n",
       "      <td>51.175465</td>\n",
       "      <td>51.212425</td>\n",
       "      <td>-114.087851</td>\n",
       "      <td>-114.042261</td>\n",
       "      <td>5</td>\n",
       "      <td>1</td>\n",
       "      <td>0</td>\n",
       "      <td>70.000000</td>\n",
       "      <td>2</td>\n",
       "      <td>2666.666667</td>\n",
       "      <td>3</td>\n",
       "      <td>342</td>\n",
       "    </tr>\n",
       "    <tr>\n",
       "      <th>96</th>\n",
       "      <td>51.175465</td>\n",
       "      <td>51.212425</td>\n",
       "      <td>-114.042261</td>\n",
       "      <td>-113.996672</td>\n",
       "      <td>22</td>\n",
       "      <td>0</td>\n",
       "      <td>0</td>\n",
       "      <td>73.636364</td>\n",
       "      <td>11</td>\n",
       "      <td>0.000000</td>\n",
       "      <td>0</td>\n",
       "      <td>52</td>\n",
       "    </tr>\n",
       "    <tr>\n",
       "      <th>97</th>\n",
       "      <td>51.175465</td>\n",
       "      <td>51.212425</td>\n",
       "      <td>-113.996672</td>\n",
       "      <td>-113.951083</td>\n",
       "      <td>20</td>\n",
       "      <td>0</td>\n",
       "      <td>0</td>\n",
       "      <td>65.000000</td>\n",
       "      <td>12</td>\n",
       "      <td>15000.000000</td>\n",
       "      <td>1</td>\n",
       "      <td>27</td>\n",
       "    </tr>\n",
       "    <tr>\n",
       "      <th>98</th>\n",
       "      <td>51.175465</td>\n",
       "      <td>51.212425</td>\n",
       "      <td>-113.951083</td>\n",
       "      <td>-113.905494</td>\n",
       "      <td>1</td>\n",
       "      <td>0</td>\n",
       "      <td>0</td>\n",
       "      <td>0.000000</td>\n",
       "      <td>0</td>\n",
       "      <td>0.000000</td>\n",
       "      <td>0</td>\n",
       "      <td>2</td>\n",
       "    </tr>\n",
       "    <tr>\n",
       "      <th>99</th>\n",
       "      <td>51.175465</td>\n",
       "      <td>51.212425</td>\n",
       "      <td>-113.905494</td>\n",
       "      <td>-113.859905</td>\n",
       "      <td>0</td>\n",
       "      <td>0</td>\n",
       "      <td>0</td>\n",
       "      <td>0.000000</td>\n",
       "      <td>0</td>\n",
       "      <td>0.000000</td>\n",
       "      <td>0</td>\n",
       "      <td>0</td>\n",
       "    </tr>\n",
       "  </tbody>\n",
       "</table>\n",
       "<p>100 rows × 12 columns</p>\n",
       "</div>"
      ],
      "text/plain": [
       "         minX       maxX        minY        maxY  accident  signals  cameras  \\\n",
       "0   50.842822  50.879782 -114.315796 -114.270207         0        0        0   \n",
       "1   50.842822  50.879782 -114.270207 -114.224618         0        0        0   \n",
       "2   50.842822  50.879782 -114.224618 -114.179029         0        0        0   \n",
       "3   50.842822  50.879782 -114.179029 -114.133440         0        0        0   \n",
       "4   50.842822  50.879782 -114.133440 -114.087851         0        0        0   \n",
       "..        ...        ...         ...         ...       ...      ...      ...   \n",
       "95  51.175465  51.212425 -114.087851 -114.042261         5        1        0   \n",
       "96  51.175465  51.212425 -114.042261 -113.996672        22        0        0   \n",
       "97  51.175465  51.212425 -113.996672 -113.951083        20        0        0   \n",
       "98  51.175465  51.212425 -113.951083 -113.905494         1        0        0   \n",
       "99  51.175465  51.212425 -113.905494 -113.859905         0        0        0   \n",
       "\n",
       "        SPEED  Average Speed Count        VOLUME  Average Volume Count  Signs  \n",
       "0    0.000000                    0      0.000000                     0      0  \n",
       "1    0.000000                    0      0.000000                     0      0  \n",
       "2    0.000000                    0      0.000000                     0      0  \n",
       "3    0.000000                    0      0.000000                     0      0  \n",
       "4    0.000000                    0      0.000000                     0     54  \n",
       "..        ...                  ...           ...                   ...    ...  \n",
       "95  70.000000                    2   2666.666667                     3    342  \n",
       "96  73.636364                   11      0.000000                     0     52  \n",
       "97  65.000000                   12  15000.000000                     1     27  \n",
       "98   0.000000                    0      0.000000                     0      2  \n",
       "99   0.000000                    0      0.000000                     0      0  \n",
       "\n",
       "[100 rows x 12 columns]"
      ]
     },
     "execution_count": 41,
     "metadata": {},
     "output_type": "execute_result"
    }
   ],
   "source": [
    "incident_factors"
   ]
  },
  {
   "cell_type": "markdown",
   "metadata": {},
   "source": [
    "## Average Traffic Volume vs. Traffic Accidents (Volume or Average Volume Count????)"
   ]
  },
  {
   "cell_type": "code",
   "execution_count": 48,
   "metadata": {},
   "outputs": [
    {
     "data": {
      "text/html": [
       "<div>\n",
       "<style scoped>\n",
       "    .dataframe tbody tr th:only-of-type {\n",
       "        vertical-align: middle;\n",
       "    }\n",
       "\n",
       "    .dataframe tbody tr th {\n",
       "        vertical-align: top;\n",
       "    }\n",
       "\n",
       "    .dataframe thead th {\n",
       "        text-align: right;\n",
       "    }\n",
       "</style>\n",
       "<table border=\"1\" class=\"dataframe\">\n",
       "  <thead>\n",
       "    <tr style=\"text-align: right;\">\n",
       "      <th></th>\n",
       "      <th>accident</th>\n",
       "      <th>VOLUME</th>\n",
       "    </tr>\n",
       "  </thead>\n",
       "  <tbody>\n",
       "    <tr>\n",
       "      <th>0</th>\n",
       "      <td>0</td>\n",
       "      <td>0.000000</td>\n",
       "    </tr>\n",
       "    <tr>\n",
       "      <th>1</th>\n",
       "      <td>0</td>\n",
       "      <td>0.000000</td>\n",
       "    </tr>\n",
       "    <tr>\n",
       "      <th>2</th>\n",
       "      <td>0</td>\n",
       "      <td>0.000000</td>\n",
       "    </tr>\n",
       "    <tr>\n",
       "      <th>3</th>\n",
       "      <td>0</td>\n",
       "      <td>0.000000</td>\n",
       "    </tr>\n",
       "    <tr>\n",
       "      <th>4</th>\n",
       "      <td>0</td>\n",
       "      <td>0.000000</td>\n",
       "    </tr>\n",
       "    <tr>\n",
       "      <th>...</th>\n",
       "      <td>...</td>\n",
       "      <td>...</td>\n",
       "    </tr>\n",
       "    <tr>\n",
       "      <th>95</th>\n",
       "      <td>5</td>\n",
       "      <td>2666.666667</td>\n",
       "    </tr>\n",
       "    <tr>\n",
       "      <th>96</th>\n",
       "      <td>22</td>\n",
       "      <td>0.000000</td>\n",
       "    </tr>\n",
       "    <tr>\n",
       "      <th>97</th>\n",
       "      <td>20</td>\n",
       "      <td>15000.000000</td>\n",
       "    </tr>\n",
       "    <tr>\n",
       "      <th>98</th>\n",
       "      <td>1</td>\n",
       "      <td>0.000000</td>\n",
       "    </tr>\n",
       "    <tr>\n",
       "      <th>99</th>\n",
       "      <td>0</td>\n",
       "      <td>0.000000</td>\n",
       "    </tr>\n",
       "  </tbody>\n",
       "</table>\n",
       "<p>100 rows × 2 columns</p>\n",
       "</div>"
      ],
      "text/plain": [
       "    accident        VOLUME\n",
       "0          0      0.000000\n",
       "1          0      0.000000\n",
       "2          0      0.000000\n",
       "3          0      0.000000\n",
       "4          0      0.000000\n",
       "..       ...           ...\n",
       "95         5   2666.666667\n",
       "96        22      0.000000\n",
       "97        20  15000.000000\n",
       "98         1      0.000000\n",
       "99         0      0.000000\n",
       "\n",
       "[100 rows x 2 columns]"
      ]
     },
     "execution_count": 48,
     "metadata": {},
     "output_type": "execute_result"
    }
   ],
   "source": [
    "incident_factors_volume = incident_factors[['accident', 'VOLUME']]\n",
    "incident_factors_volume"
   ]
  },
  {
   "cell_type": "code",
   "execution_count": 49,
   "metadata": {},
   "outputs": [
    {
     "data": {
      "image/png": "[encoded data removed]",
      "text/plain": [
       "<Figure size 432x288 with 1 Axes>"
      ]
     },
     "metadata": {
      "needs_background": "light"
     },
     "output_type": "display_data"
    }
   ],
   "source": [
    "traffic_reg_plot = sns.regplot(x = 'VOLUME', y = 'accident', data = incident_factors_volume)"
   ]
  },
  {
   "cell_type": "code",
   "execution_count": 50,
   "metadata": {},
   "outputs": [
    {
     "data": {
      "image/png": "[encoded data removed]",
      "text/plain": [
       "<Figure size 432x288 with 1 Axes>"
      ]
     },
     "metadata": {
      "needs_background": "light"
     },
     "output_type": "display_data"
    }
   ],
   "source": [
    "traffic_line_plot = sns.lineplot(x = 'VOLUME', y = 'accident', data = incident_factors_volume)"
   ]
  },
  {
   "cell_type": "markdown",
   "metadata": {},
   "source": [
    "## Average Number of Traffic Cameras vs. Traffic Accidents"
   ]
  },
  {
   "cell_type": "code",
   "execution_count": 44,
   "metadata": {},
   "outputs": [
    {
     "data": {
      "text/html": [
       "<div>\n",
       "<style scoped>\n",
       "    .dataframe tbody tr th:only-of-type {\n",
       "        vertical-align: middle;\n",
       "    }\n",
       "\n",
       "    .dataframe tbody tr th {\n",
       "        vertical-align: top;\n",
       "    }\n",
       "\n",
       "    .dataframe thead th {\n",
       "        text-align: right;\n",
       "    }\n",
       "</style>\n",
       "<table border=\"1\" class=\"dataframe\">\n",
       "  <thead>\n",
       "    <tr style=\"text-align: right;\">\n",
       "      <th></th>\n",
       "      <th>accident</th>\n",
       "      <th>cameras</th>\n",
       "    </tr>\n",
       "  </thead>\n",
       "  <tbody>\n",
       "    <tr>\n",
       "      <th>0</th>\n",
       "      <td>0</td>\n",
       "      <td>0</td>\n",
       "    </tr>\n",
       "    <tr>\n",
       "      <th>1</th>\n",
       "      <td>0</td>\n",
       "      <td>0</td>\n",
       "    </tr>\n",
       "    <tr>\n",
       "      <th>2</th>\n",
       "      <td>0</td>\n",
       "      <td>0</td>\n",
       "    </tr>\n",
       "    <tr>\n",
       "      <th>3</th>\n",
       "      <td>0</td>\n",
       "      <td>0</td>\n",
       "    </tr>\n",
       "    <tr>\n",
       "      <th>4</th>\n",
       "      <td>0</td>\n",
       "      <td>0</td>\n",
       "    </tr>\n",
       "    <tr>\n",
       "      <th>...</th>\n",
       "      <td>...</td>\n",
       "      <td>...</td>\n",
       "    </tr>\n",
       "    <tr>\n",
       "      <th>95</th>\n",
       "      <td>5</td>\n",
       "      <td>0</td>\n",
       "    </tr>\n",
       "    <tr>\n",
       "      <th>96</th>\n",
       "      <td>22</td>\n",
       "      <td>0</td>\n",
       "    </tr>\n",
       "    <tr>\n",
       "      <th>97</th>\n",
       "      <td>20</td>\n",
       "      <td>0</td>\n",
       "    </tr>\n",
       "    <tr>\n",
       "      <th>98</th>\n",
       "      <td>1</td>\n",
       "      <td>0</td>\n",
       "    </tr>\n",
       "    <tr>\n",
       "      <th>99</th>\n",
       "      <td>0</td>\n",
       "      <td>0</td>\n",
       "    </tr>\n",
       "  </tbody>\n",
       "</table>\n",
       "<p>100 rows × 2 columns</p>\n",
       "</div>"
      ],
      "text/plain": [
       "    accident  cameras\n",
       "0          0        0\n",
       "1          0        0\n",
       "2          0        0\n",
       "3          0        0\n",
       "4          0        0\n",
       "..       ...      ...\n",
       "95         5        0\n",
       "96        22        0\n",
       "97        20        0\n",
       "98         1        0\n",
       "99         0        0\n",
       "\n",
       "[100 rows x 2 columns]"
      ]
     },
     "execution_count": 44,
     "metadata": {},
     "output_type": "execute_result"
    }
   ],
   "source": [
    "incident_factors_cameras = incident_factors[['accident', 'cameras']]\n",
    "incident_factors_cameras"
   ]
  },
  {
   "cell_type": "code",
   "execution_count": 53,
   "metadata": {},
   "outputs": [
    {
     "data": {
      "image/png": "[encoded data removed]",
      "text/plain": [
       "<Figure size 432x288 with 1 Axes>"
      ]
     },
     "metadata": {
      "needs_background": "light"
     },
     "output_type": "display_data"
    }
   ],
   "source": [
    "cameras_reg_plot = sns.regplot(x = 'cameras', y = 'accident', data = incident_factors_cameras)"
   ]
  },
  {
   "cell_type": "code",
   "execution_count": 54,
   "metadata": {},
   "outputs": [
    {
     "data": {
      "image/png": "[encoded data removed]",
      "text/plain": [
       "<Figure size 432x288 with 1 Axes>"
      ]
     },
     "metadata": {
      "needs_background": "light"
     },
     "output_type": "display_data"
    }
   ],
   "source": [
    "cameras_line_plot = sns.lineplot(x = 'cameras', y = 'accident', data = incident_factors_cameras)"
   ]
  },
  {
   "cell_type": "markdown",
   "metadata": {},
   "source": [
    "## Average Number of Traffic Signals vs. Traffic Accidents"
   ]
  },
  {
   "cell_type": "code",
   "execution_count": 45,
   "metadata": {},
   "outputs": [
    {
     "data": {
      "text/html": [
       "<div>\n",
       "<style scoped>\n",
       "    .dataframe tbody tr th:only-of-type {\n",
       "        vertical-align: middle;\n",
       "    }\n",
       "\n",
       "    .dataframe tbody tr th {\n",
       "        vertical-align: top;\n",
       "    }\n",
       "\n",
       "    .dataframe thead th {\n",
       "        text-align: right;\n",
       "    }\n",
       "</style>\n",
       "<table border=\"1\" class=\"dataframe\">\n",
       "  <thead>\n",
       "    <tr style=\"text-align: right;\">\n",
       "      <th></th>\n",
       "      <th>accident</th>\n",
       "      <th>signals</th>\n",
       "    </tr>\n",
       "  </thead>\n",
       "  <tbody>\n",
       "    <tr>\n",
       "      <th>0</th>\n",
       "      <td>0</td>\n",
       "      <td>0</td>\n",
       "    </tr>\n",
       "    <tr>\n",
       "      <th>1</th>\n",
       "      <td>0</td>\n",
       "      <td>0</td>\n",
       "    </tr>\n",
       "    <tr>\n",
       "      <th>2</th>\n",
       "      <td>0</td>\n",
       "      <td>0</td>\n",
       "    </tr>\n",
       "    <tr>\n",
       "      <th>3</th>\n",
       "      <td>0</td>\n",
       "      <td>0</td>\n",
       "    </tr>\n",
       "    <tr>\n",
       "      <th>4</th>\n",
       "      <td>0</td>\n",
       "      <td>0</td>\n",
       "    </tr>\n",
       "    <tr>\n",
       "      <th>...</th>\n",
       "      <td>...</td>\n",
       "      <td>...</td>\n",
       "    </tr>\n",
       "    <tr>\n",
       "      <th>95</th>\n",
       "      <td>5</td>\n",
       "      <td>1</td>\n",
       "    </tr>\n",
       "    <tr>\n",
       "      <th>96</th>\n",
       "      <td>22</td>\n",
       "      <td>0</td>\n",
       "    </tr>\n",
       "    <tr>\n",
       "      <th>97</th>\n",
       "      <td>20</td>\n",
       "      <td>0</td>\n",
       "    </tr>\n",
       "    <tr>\n",
       "      <th>98</th>\n",
       "      <td>1</td>\n",
       "      <td>0</td>\n",
       "    </tr>\n",
       "    <tr>\n",
       "      <th>99</th>\n",
       "      <td>0</td>\n",
       "      <td>0</td>\n",
       "    </tr>\n",
       "  </tbody>\n",
       "</table>\n",
       "<p>100 rows × 2 columns</p>\n",
       "</div>"
      ],
      "text/plain": [
       "    accident  signals\n",
       "0          0        0\n",
       "1          0        0\n",
       "2          0        0\n",
       "3          0        0\n",
       "4          0        0\n",
       "..       ...      ...\n",
       "95         5        1\n",
       "96        22        0\n",
       "97        20        0\n",
       "98         1        0\n",
       "99         0        0\n",
       "\n",
       "[100 rows x 2 columns]"
      ]
     },
     "execution_count": 45,
     "metadata": {},
     "output_type": "execute_result"
    }
   ],
   "source": [
    "incident_factors_signals = incident_factors[['accident', 'signals']]\n",
    "incident_factors_signals"
   ]
  },
  {
   "cell_type": "code",
   "execution_count": 55,
   "metadata": {},
   "outputs": [
    {
     "data": {
      "image/png": "[encoded data removed]",
      "text/plain": [
       "<Figure size 432x288 with 1 Axes>"
      ]
     },
     "metadata": {
      "needs_background": "light"
     },
     "output_type": "display_data"
    }
   ],
   "source": [
    "signals_reg_plot = sns.regplot(x = 'signals', y = 'accident', data = incident_factors_signals)"
   ]
  },
  {
   "cell_type": "code",
   "execution_count": 57,
   "metadata": {},
   "outputs": [
    {
     "data": {
      "image/png": "[encoded data removed]",
      "text/plain": [
       "<Figure size 432x288 with 1 Axes>"
      ]
     },
     "metadata": {
      "needs_background": "light"
     },
     "output_type": "display_data"
    }
   ],
   "source": [
    "signals_line_plot = sns.lineplot(x = 'signals', y = 'accident', data = incident_factors_signals)"
   ]
  },
  {
   "cell_type": "markdown",
   "metadata": {},
   "source": [
    "## Number of Traffic Signs vs. Traffic Accidents"
   ]
  },
  {
   "cell_type": "code",
   "execution_count": 46,
   "metadata": {},
   "outputs": [
    {
     "data": {
      "text/html": [
       "<div>\n",
       "<style scoped>\n",
       "    .dataframe tbody tr th:only-of-type {\n",
       "        vertical-align: middle;\n",
       "    }\n",
       "\n",
       "    .dataframe tbody tr th {\n",
       "        vertical-align: top;\n",
       "    }\n",
       "\n",
       "    .dataframe thead th {\n",
       "        text-align: right;\n",
       "    }\n",
       "</style>\n",
       "<table border=\"1\" class=\"dataframe\">\n",
       "  <thead>\n",
       "    <tr style=\"text-align: right;\">\n",
       "      <th></th>\n",
       "      <th>accident</th>\n",
       "      <th>Signs</th>\n",
       "    </tr>\n",
       "  </thead>\n",
       "  <tbody>\n",
       "    <tr>\n",
       "      <th>0</th>\n",
       "      <td>0</td>\n",
       "      <td>0</td>\n",
       "    </tr>\n",
       "    <tr>\n",
       "      <th>1</th>\n",
       "      <td>0</td>\n",
       "      <td>0</td>\n",
       "    </tr>\n",
       "    <tr>\n",
       "      <th>2</th>\n",
       "      <td>0</td>\n",
       "      <td>0</td>\n",
       "    </tr>\n",
       "    <tr>\n",
       "      <th>3</th>\n",
       "      <td>0</td>\n",
       "      <td>0</td>\n",
       "    </tr>\n",
       "    <tr>\n",
       "      <th>4</th>\n",
       "      <td>0</td>\n",
       "      <td>54</td>\n",
       "    </tr>\n",
       "    <tr>\n",
       "      <th>...</th>\n",
       "      <td>...</td>\n",
       "      <td>...</td>\n",
       "    </tr>\n",
       "    <tr>\n",
       "      <th>95</th>\n",
       "      <td>5</td>\n",
       "      <td>342</td>\n",
       "    </tr>\n",
       "    <tr>\n",
       "      <th>96</th>\n",
       "      <td>22</td>\n",
       "      <td>52</td>\n",
       "    </tr>\n",
       "    <tr>\n",
       "      <th>97</th>\n",
       "      <td>20</td>\n",
       "      <td>27</td>\n",
       "    </tr>\n",
       "    <tr>\n",
       "      <th>98</th>\n",
       "      <td>1</td>\n",
       "      <td>2</td>\n",
       "    </tr>\n",
       "    <tr>\n",
       "      <th>99</th>\n",
       "      <td>0</td>\n",
       "      <td>0</td>\n",
       "    </tr>\n",
       "  </tbody>\n",
       "</table>\n",
       "<p>100 rows × 2 columns</p>\n",
       "</div>"
      ],
      "text/plain": [
       "    accident  Signs\n",
       "0          0      0\n",
       "1          0      0\n",
       "2          0      0\n",
       "3          0      0\n",
       "4          0     54\n",
       "..       ...    ...\n",
       "95         5    342\n",
       "96        22     52\n",
       "97        20     27\n",
       "98         1      2\n",
       "99         0      0\n",
       "\n",
       "[100 rows x 2 columns]"
      ]
     },
     "execution_count": 46,
     "metadata": {},
     "output_type": "execute_result"
    }
   ],
   "source": [
    "incident_factors_signs = incident_factors[['accident', 'Signs']]\n",
    "incident_factors_signs"
   ]
  },
  {
   "cell_type": "code",
   "execution_count": 32,
   "metadata": {},
   "outputs": [
    {
     "data": {
      "image/png": "[encoded data removed]",
      "text/plain": [
       "<Figure size 432x288 with 1 Axes>"
      ]
     },
     "metadata": {
      "needs_background": "light"
     },
     "output_type": "display_data"
    }
   ],
   "source": [
    "signs_hist = sns.distplot(incident_factors_signs, kde = False)"
   ]
  },
  {
   "cell_type": "code",
   "execution_count": 30,
   "metadata": {},
   "outputs": [
    {
     "data": {
      "image/png": "[encoded data removed]",
      "text/plain": [
       "<Figure size 432x288 with 1 Axes>"
      ]
     },
     "metadata": {
      "needs_background": "light"
     },
     "output_type": "display_data"
    }
   ],
   "source": [
    "signs_reg_plot = sns.regplot(x = \"Signs\", y = 'accident', data = incident_factors_signs, marker = '+')"
   ]
  },
  {
   "cell_type": "code",
   "execution_count": 35,
   "metadata": {},
   "outputs": [
    {
     "data": {
      "image/png": "[encoded data removed]",
      "text/plain": [
       "<Figure size 432x288 with 1 Axes>"
      ]
     },
     "metadata": {
      "needs_background": "light"
     },
     "output_type": "display_data"
    }
   ],
   "source": [
    "signs_line_plot = sns.lineplot(x = 'Signs', y = 'accident', data = incident_factors_signs)"
   ]
  },
  {
   "cell_type": "markdown",
   "metadata": {},
   "source": [
    "## Daily Weather Condition vs. Traffic Accidents"
   ]
  },
  {
   "cell_type": "code",
   "execution_count": 8,
   "metadata": {},
   "outputs": [],
   "source": [
    "# regplot(), lmplot(), jointplot()"
   ]
  },
  {
   "cell_type": "markdown",
   "metadata": {},
   "source": [
    "### Snow vs. Accident"
   ]
  },
  {
   "cell_type": "code",
   "execution_count": 17,
   "metadata": {},
   "outputs": [
    {
     "data": {
      "image/png": "[encoded data removed]",
      "text/plain": [
       "<Figure size 432x288 with 1 Axes>"
      ]
     },
     "metadata": {
      "needs_background": "light"
     },
     "output_type": "display_data"
    }
   ],
   "source": [
    "snow_reg_plot = sns.regplot(x = \"Snow on Grnd (cm)\", y = 'Daily Accident Count', data = weather_combined)"
   ]
  },
  {
   "cell_type": "markdown",
   "metadata": {},
   "source": [
    "Comments: Positive correlation"
   ]
  },
  {
   "cell_type": "code",
   "execution_count": 19,
   "metadata": {},
   "outputs": [
    {
     "data": {
      "image/png": "[encoded data removed]",
      "text/plain": [
       "<Figure size 432x288 with 1 Axes>"
      ]
     },
     "metadata": {
      "needs_background": "light"
     },
     "output_type": "display_data"
    }
   ],
   "source": [
    "snow_line_plot = sns.lineplot(x = \"Snow on Grnd (cm)\", y = 'Daily Accident Count', data = weather_combined)"
   ]
  },
  {
   "cell_type": "markdown",
   "metadata": {},
   "source": [
    "Comments: High spike in accidents when snow on ground surpasses 20 cm"
   ]
  },
  {
   "cell_type": "markdown",
   "metadata": {},
   "source": [
    "### Mean Temperature vs. Accident"
   ]
  },
  {
   "cell_type": "code",
   "execution_count": 10,
   "metadata": {},
   "outputs": [
    {
     "data": {
      "image/png": "[encoded data removed]",
      "text/plain": [
       "<Figure size 432x288 with 1 Axes>"
      ]
     },
     "metadata": {
      "needs_background": "light"
     },
     "output_type": "display_data"
    }
   ],
   "source": [
    "temp_reg_plot = sns.regplot(x = \"Mean Temp (°C)\", y = 'Daily Accident Count', data = weather_combined, marker = '+')"
   ]
  },
  {
   "cell_type": "markdown",
   "metadata": {},
   "source": [
    "#### Regression Plot with bins"
   ]
  },
  {
   "cell_type": "code",
   "execution_count": 11,
   "metadata": {},
   "outputs": [
    {
     "data": {
      "image/png": "[encoded data removed]",
      "text/plain": [
       "<Figure size 432x288 with 1 Axes>"
      ]
     },
     "metadata": {
      "needs_background": "light"
     },
     "output_type": "display_data"
    }
   ],
   "source": [
    "temp_reg_plot_bins = sns.regplot(x = \"Mean Temp (°C)\", y = 'Daily Accident Count', data = weather_combined, marker = '+', x_bins = 15)"
   ]
  },
  {
   "cell_type": "markdown",
   "metadata": {},
   "source": [
    "#### Line Graph"
   ]
  },
  {
   "cell_type": "code",
   "execution_count": 22,
   "metadata": {},
   "outputs": [
    {
     "data": {
      "image/png": "[encoded data removed]",
      "text/plain": [
       "<Figure size 432x288 with 1 Axes>"
      ]
     },
     "metadata": {
      "needs_background": "light"
     },
     "output_type": "display_data"
    }
   ],
   "source": [
    "temp_reg_plot_bins = sns.lineplot(x = \"Mean Temp (°C)\", y = 'Daily Accident Count', data = weather_combined, marker = '+')"
   ]
  },
  {
   "cell_type": "markdown",
   "metadata": {},
   "source": [
    "### Visibility vs. Accident"
   ]
  },
  {
   "cell_type": "code",
   "execution_count": 12,
   "metadata": {},
   "outputs": [
    {
     "data": {
      "image/png": "[encoded data removed]",
      "text/plain": [
       "<Figure size 432x288 with 1 Axes>"
      ]
     },
     "metadata": {
      "needs_background": "light"
     },
     "output_type": "display_data"
    }
   ],
   "source": [
    "vis_reg_plot = sns.regplot(x = \"Visibility (km)\", y = 'Daily Accident Count', data = weather_combined, marker = '+')"
   ]
  },
  {
   "cell_type": "markdown",
   "metadata": {},
   "source": [
    "#### Regression Plot with bins"
   ]
  },
  {
   "cell_type": "code",
   "execution_count": 23,
   "metadata": {},
   "outputs": [
    {
     "data": {
      "image/png": "[encoded data removed]",
      "text/plain": [
       "<Figure size 432x288 with 1 Axes>"
      ]
     },
     "metadata": {
      "needs_background": "light"
     },
     "output_type": "display_data"
    }
   ],
   "source": [
    "vis_reg_plot_bins = sns.regplot(x = \"Visibility (km)\", y = 'Daily Accident Count', data = weather_combined, marker = '+', x_bins = 15)"
   ]
  },
  {
   "cell_type": "code",
   "execution_count": 24,
   "metadata": {},
   "outputs": [
    {
     "data": {
      "image/png": "[encoded data removed]",
      "text/plain": [
       "<Figure size 432x288 with 1 Axes>"
      ]
     },
     "metadata": {
      "needs_background": "light"
     },
     "output_type": "display_data"
    }
   ],
   "source": [
    "vis_line_plot_bins = sns.lineplot(x = \"Visibility (km)\", y = 'Daily Accident Count', data = weather_combined, marker = '+')"
   ]
  },
  {
   "cell_type": "markdown",
   "metadata": {},
   "source": [
    "### Wind Speed vs. Accident"
   ]
  },
  {
   "cell_type": "code",
   "execution_count": 14,
   "metadata": {},
   "outputs": [
    {
     "data": {
      "image/png": "[encoded data removed]",
      "text/plain": [
       "<Figure size 432x288 with 1 Axes>"
      ]
     },
     "metadata": {
      "needs_background": "light"
     },
     "output_type": "display_data"
    }
   ],
   "source": [
    "windspeed_reg_plot = sns.regplot(x = \"Wind Spd (km/h)\", y = 'Daily Accident Count', data = weather_combined, marker = '+')"
   ]
  },
  {
   "cell_type": "markdown",
   "metadata": {},
   "source": [
    "#### Regression Plot with bins"
   ]
  },
  {
   "cell_type": "code",
   "execution_count": 15,
   "metadata": {},
   "outputs": [
    {
     "data": {
      "image/png": "[encoded data removed]",
      "text/plain": [
       "<Figure size 432x288 with 1 Axes>"
      ]
     },
     "metadata": {
      "needs_background": "light"
     },
     "output_type": "display_data"
    }
   ],
   "source": [
    "windspeed_reg_plot_bins = sns.regplot(x = \"Wind Spd (km/h)\", y = 'Daily Accident Count', data = weather_combined, marker = '+', x_bins = 15)"
   ]
  },
  {
   "cell_type": "code",
   "execution_count": 25,
   "metadata": {},
   "outputs": [
    {
     "data": {
      "image/png": "[encoded data removed]",
      "text/plain": [
       "<Figure size 432x288 with 1 Axes>"
      ]
     },
     "metadata": {
      "needs_background": "light"
     },
     "output_type": "display_data"
    }
   ],
   "source": [
    "windspeed_line_plot_bins = sns.lineplot(x = \"Wind Spd (km/h)\", y = 'Daily Accident Count', data = weather_combined, marker = '+')"
   ]
  }
 ],
 "metadata": {
  "kernelspec": {
   "display_name": "Python 3",
   "language": "python",
   "name": "python3"
  },
  "language_info": {
   "codemirror_mode": {
    "name": "ipython",
    "version": 3
   },
   "file_extension": ".py",
   "mimetype": "text/x-python",
   "name": "python",
   "nbconvert_exporter": "python",
   "pygments_lexer": "ipython3",
   "version": "3.8.3"
  }
 },
 "nbformat": 4,
 "nbformat_minor": 4
}
